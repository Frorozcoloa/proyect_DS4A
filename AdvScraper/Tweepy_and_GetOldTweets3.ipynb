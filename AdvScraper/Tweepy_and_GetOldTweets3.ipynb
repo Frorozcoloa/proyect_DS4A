{
 "cells": [
  {
   "cell_type": "markdown",
   "metadata": {},
   "source": [
    "# Notebook for Scraping Twitter With Tweepy and GetOldTweets3\n",
    "\n",
    "Tweepy Package Github: https://github.com/tweepy/tweepy\n",
    "\n",
    "GetOldTweets3 Package Github: https://github.com/Mottl/GetOldTweets3\n",
    "\n",
    "Tweepy Package Documentation: https://tweepy.readthedocs.io/en/latest/\n",
    "\n",
    "Article Read-Along: https://towardsdatascience.com/how-to-scrape-more-information-from-tweets-on-twitter-44fd540b8a1f\n",
    "\n",
    "### Notebook Author: Martin Beck\n",
    "#### Information current as of August, 13th 2020\n",
    "<b> Dependencies:</b> Make sure Tweepy and GetOldTweets3 is already installed in your Python environment. If not, you can pip install Tweepy to install the package. If you want more information on setting up I have an article [here](https://towardsdatascience.com/how-to-scrape-tweets-from-twitter-59287e20f0f1) that goes into deeper detail."
   ]
  },
  {
   "cell_type": "markdown",
   "metadata": {},
   "source": [
    "## Notebook's Table of Contents<a name=\"TOC\"></a>\n",
    "\n",
    "0. [Credentials and Authorization](#Section0)\n",
    "<br>Setting up credentials and authorization in order to utilize Tweepy\n",
    "1. [Available Methods With Tweepy](#Section1)\n",
    "<br>Methods available with Tweepy to pull more information\n",
    "2. [How to Use Tweepy With GetOldTweets3](#Section2)\n",
    "<br>Examples on using Tweepy's methods and how to use them on your datasets."
   ]
  },
  {
   "cell_type": "markdown",
   "metadata": {},
   "source": [
    "## Imports for Notebook"
   ]
  },
  {
   "cell_type": "code",
   "execution_count": 1,
   "metadata": {},
   "outputs": [],
   "source": [
    "# Pip install Tweepy if you don't already have the package\n",
    "# !pip install tweepy\n",
    "\n",
    "# Imports\n",
    "import tweepy\n",
    "import pandas as pd\n",
    "import GetOldTweets3 as got\n",
    "import time"
   ]
  },
  {
   "cell_type": "markdown",
   "metadata": {},
   "source": [
    "## 0. Credentials and Authorization<a name=\"Section0\"></a>\n",
    "[Return to Table of Contents](#TOC)\n",
    "<br>Tweepy requires credentials before you can utilize its API. The below code helps setup the notebook for authorization. I already have an an article covering setting up Tweepy and getting credentials [here](https://towardsdatascience.com/how-to-scrape-tweets-from-twitter-59287e20f0f1) if further instructions are needed.\n",
    "\n",
    "You don't necessarily have to create a credentials file, however if you find youself sharing Tweepy code to other parties I recommend it so you don't accidentally share your credentials. Otherwise skip the below cell and just enter your credentials in and have them hardcoded below."
   ]
  },
  {
   "cell_type": "code",
   "execution_count": 44,
   "metadata": {},
   "outputs": [
    {
     "data": {
      "text/html": [
       "<div>\n",
       "<style scoped>\n",
       "    .dataframe tbody tr th:only-of-type {\n",
       "        vertical-align: middle;\n",
       "    }\n",
       "\n",
       "    .dataframe tbody tr th {\n",
       "        vertical-align: top;\n",
       "    }\n",
       "\n",
       "    .dataframe thead th {\n",
       "        text-align: right;\n",
       "    }\n",
       "</style>\n",
       "<table border=\"1\" class=\"dataframe\">\n",
       "  <thead>\n",
       "    <tr style=\"text-align: right;\">\n",
       "      <th></th>\n",
       "      <th>name</th>\n",
       "      <th>key</th>\n",
       "    </tr>\n",
       "  </thead>\n",
       "  <tbody>\n",
       "    <tr>\n",
       "      <th>0</th>\n",
       "      <td>consumer_key</td>\n",
       "      <td>XXXXXX</td>\n",
       "    </tr>\n",
       "    <tr>\n",
       "      <th>1</th>\n",
       "      <td>consumer_secret</td>\n",
       "      <td>XXXXXX</td>\n",
       "    </tr>\n",
       "    <tr>\n",
       "      <th>2</th>\n",
       "      <td>access_token</td>\n",
       "      <td>XXXXXX</td>\n",
       "    </tr>\n",
       "    <tr>\n",
       "      <th>3</th>\n",
       "      <td>access_secret</td>\n",
       "      <td>XXXXXX</td>\n",
       "    </tr>\n",
       "  </tbody>\n",
       "</table>\n",
       "</div>"
      ],
      "text/plain": [
       "              name     key\n",
       "0     consumer_key  XXXXXX\n",
       "1  consumer_secret  XXXXXX\n",
       "2     access_token  XXXXXX\n",
       "3    access_secret  XXXXXX"
      ]
     },
     "execution_count": 44,
     "metadata": {},
     "output_type": "execute_result"
    }
   ],
   "source": [
    "# Loading in from csv file\n",
    "\n",
    "credentials_df = pd.read_csv('credentials.csv',header=None,names=['name','key'])\n",
    "\n",
    "credentials_df"
   ]
  },
  {
   "cell_type": "code",
   "execution_count": 3,
   "metadata": {},
   "outputs": [],
   "source": [
    "# Credentials from csv file\n",
    "\n",
    "consumer_key = credentials_df.loc[credentials_df['name']=='consumer_key','key'].iloc[0]\n",
    "consumer_secret = credentials_df.loc[credentials_df['name']=='consumer_secret','key'].iloc[0]\n",
    "access_token = credentials_df.loc[credentials_df['name']=='access_token','key'].iloc[0]\n",
    "access_token_secret = credentials_df.loc[credentials_df['name']=='access_secret','key'].iloc[0]\n",
    "\n",
    "# Credentials hardcoded\n",
    "\n",
    "# consumer_key = \"XXXXX\"\n",
    "# consumer_secret = \"XXXXX\"\n",
    "# access_token = \"XXXXX\"\n",
    "# access_token_secret = \"XXXXXX\"\n",
    "\n",
    "auth = tweepy.OAuthHandler(consumer_key, consumer_secret)\n",
    "auth.set_access_token(access_token, access_token_secret)\n",
    "api = tweepy.API(auth,wait_on_rate_limit=True)"
   ]
  },
  {
   "cell_type": "markdown",
   "metadata": {},
   "source": [
    "## 1. Available Methods With Tweepy<a name=\"Section1\"></a>\n",
    "[Return to Table of Contents](#TOC)\n",
    "<br>For the most part there are only two relevant methods. If you're curious about what else you can do with Tweepy the documentation is available [here](http://docs.tweepy.org/en/latest/api.html#search-methods). \n",
    "\n",
    "The revelant methods are api.get_status and api.get_user\n",
    "\n",
    "<b>api.get_status provides you with access to Tweepy's tweet object which by default also includes user information.</b>\n",
    "\n",
    "<b>api.get_user only provides you with user information. </b>\n",
    "\n",
    "You can use either if you only care about accessing user data since they both contain it. However, if you want access to tweet information that is only available with Tweepy such as tweet.in_reply_to_user_id_str I'd recommend using api.get_status"
   ]
  },
  {
   "cell_type": "markdown",
   "metadata": {},
   "source": [
    "## 2. How to Use Tweepy With GetOldTweets3<a name=\"Section2\"></a>\n",
    "[Return to Table of Contents](#TOC)\n",
    "\n",
    "Below is a list of information accessible in both Tweepy's tweet and user object. This is not an exhaustive list for either object. If you want an exhaustive list of everything contained in Tweepy's tweet object there's documentation [here](https://developer.twitter.com/en/docs/twitter-api/v1/data-dictionary/overview/user-object). If you want an exhaustive list of everything contained in the Tweepy's user object there's documentation [here](https://developer.twitter.com/en/docs/twitter-api/v1/data-dictionary/overview/user-object). \n",
    "\n",
    "* tweet.coordinates: Geographic location as reported by user or client. May be null that is why extract_coordinates function below was created\n",
    "* tweet.place: Indicates place associated with tweet where user signed up with like Las Vegas, NV. May be null that so extract_place function below was created\n",
    "* tweet.lang: Indicates a BCP 47 language identifier corresponding to machine detected language of tweet text.\n",
    "* tweet.source: Source where tweet was posted through. Ex: Twitter Web Client\n",
    "* tweet.in_reply_to_status_id_str: If a tweet is a reply, the original tweet's id. Can be null if tweet is not a reply\n",
    "* tweet.in_reply_to_user_id_str: If a tweet is a reply, string representation of original tweet's user id\n",
    "* tweet.user.location: User defined location for account's profile. Can be nullable\n",
    "* tweet.user.url: URL provided by user in bio. Can be nullable\n",
    "* tweet.user.description: Text in user bio. Can be nullable\n",
    "* tweet.user.verified: Boolean indicating whether user has a verified account\n",
    "* tweet.user.followers_count: Count of followers user has\n",
    "* tweet.user.friends_count: Count of other users that user is following\n",
    "* tweet.user.favourites_count: Count of tweets user has liked in the account's lifetime\n",
    "* tweet.user.statuses_count: Count of tweets (including retweets) issued by user\n",
    "* tweet.user.listed_count: Count of public lists that user is member of\n",
    "* tweet.user.created_at: Date that the user account was created on Twitter\n",
    "* tweet.user.profile_image_url_https: HTTPS-based URL pointing to user's profile image\n",
    "* tweet.user.default_profile: When true, indicates user has not altered the theme or background of user profile\n",
    "* tweet.user.default_profile_image: When true, indicates if user has not uploaded their own profile image and default image is used instead\n",
    "\n",
    "<b>Remember Tweepy still has its request limitations meaning if you have larger datasets, that running these requests may take time. I've ran this workaround on a smaller dataset of 5k tweets and it took me 1-2hrs to finish running. It's up to you whether you'd rather let your computer spend time running for free or spend money on using Twitter's Premium/Enterprise APIs to work with bigger datasets."
   ]
  },
  {
   "cell_type": "markdown",
   "metadata": {},
   "source": [
    "### Preparation\n",
    "\n",
    "To use Tweepy with GetOldTweets3 there is a little bit of preparation required. Depending on whether you're using the api.get_status or api.get_user method you'll need to have the relevant information available.\n",
    "\n",
    "In the case of api.get_status make sure you use GOT3 to scrape for <b>tweet.id</b>\n",
    "\n",
    "In the case of api.get_user make sure you use GOT3 to scrape for either <b>tweet.author_id</b> or <b>tweet.username</b>\n",
    "\n",
    "I'll showcase this below."
   ]
  },
  {
   "cell_type": "code",
   "execution_count": 4,
   "metadata": {},
   "outputs": [],
   "source": [
    "text_query = 'Hello'\n",
    "since_date = \"2020-7-20\"\n",
    "until_date = \"2020-7-21\"\n",
    "\n",
    "count = 150\n",
    " \n",
    "# Creation of tweetCriteria query object with methods to specify further\n",
    "tweetCriteria = got.manager.TweetCriteria()\\\n",
    ".setQuerySearch(text_query).setSince(since_date)\\\n",
    ".setUntil(until_date).setMaxTweets(count)\n",
    " \n",
    "# Creation of tweets iterable containing all queried tweet data\n",
    "tweets = got.manager.TweetManager.getTweets(tweetCriteria)\n",
    " \n",
    "# List comprehension pulling chosen tweet information from tweets\n",
    "# Add or remove tweet information you want in the below list comprehension\n",
    "tweets_list = [[tweet.id, tweet.author_id, tweet.username, tweet.text, tweet.retweets, tweet.favorites, tweet.replies, tweet.date] for tweet in tweets]\n",
    " \n",
    "# Creation of dataframe from tweets list\n",
    "# Add or remove columns as you remove tweet information\n",
    "tweets_df = pd.DataFrame(tweets_list, columns = ['Tweet Id', 'Tweet User Id', 'Tweet User', 'Text',\n",
    "                                                  'Retweets', 'Favorites', 'Replies', 'Datetime'])"
   ]
  },
  {
   "cell_type": "markdown",
   "metadata": {},
   "source": [
    "### I scraped with GetOldTweets3 making sure that I have tweet.id, and tweet.author_id or tweet.username."
   ]
  },
  {
   "cell_type": "code",
   "execution_count": 41,
   "metadata": {
    "scrolled": true
   },
   "outputs": [
    {
     "data": {
      "text/html": [
       "<div>\n",
       "<style scoped>\n",
       "    .dataframe tbody tr th:only-of-type {\n",
       "        vertical-align: middle;\n",
       "    }\n",
       "\n",
       "    .dataframe tbody tr th {\n",
       "        vertical-align: top;\n",
       "    }\n",
       "\n",
       "    .dataframe thead th {\n",
       "        text-align: right;\n",
       "    }\n",
       "</style>\n",
       "<table border=\"1\" class=\"dataframe\">\n",
       "  <thead>\n",
       "    <tr style=\"text-align: right;\">\n",
       "      <th></th>\n",
       "      <th>Tweet Id</th>\n",
       "      <th>Tweet User Id</th>\n",
       "      <th>Tweet User</th>\n",
       "      <th>Text</th>\n",
       "      <th>Retweets</th>\n",
       "      <th>Favorites</th>\n",
       "      <th>Replies</th>\n",
       "      <th>Datetime</th>\n",
       "    </tr>\n",
       "  </thead>\n",
       "  <tbody>\n",
       "    <tr>\n",
       "      <th>0</th>\n",
       "      <td>1285363858832363520</td>\n",
       "      <td>1182717701203972096</td>\n",
       "      <td>workinclassbird</td>\n",
       "      <td>friend..... hello</td>\n",
       "      <td>0</td>\n",
       "      <td>3</td>\n",
       "      <td>1</td>\n",
       "      <td>2020-07-20 23:59:59+00:00</td>\n",
       "    </tr>\n",
       "    <tr>\n",
       "      <th>1</th>\n",
       "      <td>1285363857242947584</td>\n",
       "      <td>1183184898070405120</td>\n",
       "      <td>Soap_The_Scrub</td>\n",
       "      <td>hello yes i interacted</td>\n",
       "      <td>0</td>\n",
       "      <td>4</td>\n",
       "      <td>3</td>\n",
       "      <td>2020-07-20 23:59:59+00:00</td>\n",
       "    </tr>\n",
       "    <tr>\n",
       "      <th>2</th>\n",
       "      <td>1285363856202698753</td>\n",
       "      <td>844768299388813314</td>\n",
       "      <td>kuroslays</td>\n",
       "      <td>Hello lew,</td>\n",
       "      <td>0</td>\n",
       "      <td>0</td>\n",
       "      <td>0</td>\n",
       "      <td>2020-07-20 23:59:58+00:00</td>\n",
       "    </tr>\n",
       "    <tr>\n",
       "      <th>3</th>\n",
       "      <td>1285363856055951363</td>\n",
       "      <td>1214501518646247425</td>\n",
       "      <td>bubsji</td>\n",
       "      <td>im nervous HELLO</td>\n",
       "      <td>0</td>\n",
       "      <td>0</td>\n",
       "      <td>0</td>\n",
       "      <td>2020-07-20 23:59:58+00:00</td>\n",
       "    </tr>\n",
       "    <tr>\n",
       "      <th>4</th>\n",
       "      <td>1285363852851511301</td>\n",
       "      <td>811267164476841984</td>\n",
       "      <td>realJakeLogan</td>\n",
       "      <td>Butt Stallion says hello neck gaiter</td>\n",
       "      <td>0</td>\n",
       "      <td>0</td>\n",
       "      <td>0</td>\n",
       "      <td>2020-07-20 23:59:58+00:00</td>\n",
       "    </tr>\n",
       "  </tbody>\n",
       "</table>\n",
       "</div>"
      ],
      "text/plain": [
       "              Tweet Id        Tweet User Id       Tweet User  \\\n",
       "0  1285363858832363520  1182717701203972096  workinclassbird   \n",
       "1  1285363857242947584  1183184898070405120   Soap_The_Scrub   \n",
       "2  1285363856202698753   844768299388813314        kuroslays   \n",
       "3  1285363856055951363  1214501518646247425           bubsji   \n",
       "4  1285363852851511301   811267164476841984    realJakeLogan   \n",
       "\n",
       "                                    Text  Retweets  Favorites  Replies  \\\n",
       "0                      friend..... hello         0          3        1   \n",
       "1                hello yes i interacted          0          4        3   \n",
       "2                            Hello lew,          0          0        0   \n",
       "3                       im nervous HELLO         0          0        0   \n",
       "4  Butt Stallion says hello neck gaiter          0          0        0   \n",
       "\n",
       "                   Datetime  \n",
       "0 2020-07-20 23:59:59+00:00  \n",
       "1 2020-07-20 23:59:59+00:00  \n",
       "2 2020-07-20 23:59:58+00:00  \n",
       "3 2020-07-20 23:59:58+00:00  \n",
       "4 2020-07-20 23:59:58+00:00  "
      ]
     },
     "execution_count": 41,
     "metadata": {},
     "output_type": "execute_result"
    }
   ],
   "source": [
    "# Taking a quick look at the data scraped\n",
    "tweets_df.head()"
   ]
  },
  {
   "cell_type": "markdown",
   "metadata": {},
   "source": [
    "### Alright now we have our data, let's look at a row for information to test how api.get_status and api.get_user work."
   ]
  },
  {
   "cell_type": "code",
   "execution_count": 6,
   "metadata": {},
   "outputs": [
    {
     "data": {
      "text/plain": [
       "Tweet Id                           1285363852851511301\n",
       "Tweet User Id                       811267164476841984\n",
       "Tweet User                               realJakeLogan\n",
       "Text             Butt Stallion says hello neck gaiter \n",
       "Retweets                                             0\n",
       "Favorites                                            0\n",
       "Replies                                              0\n",
       "Datetime                     2020-07-20 23:59:58+00:00\n",
       "Name: 4, dtype: object"
      ]
     },
     "execution_count": 6,
     "metadata": {},
     "output_type": "execute_result"
    }
   ],
   "source": [
    "# Using iloc to show a specific row of data\n",
    "tweets_df.iloc[4]"
   ]
  },
  {
   "cell_type": "code",
   "execution_count": 7,
   "metadata": {},
   "outputs": [
    {
     "name": "stdout",
     "output_type": "stream",
     "text": [
      "Tweet Id:  1285363852851511301\n",
      "User Id:  811267164476841984\n",
      "Username:  realJakeLogan\n"
     ]
    }
   ],
   "source": [
    "# Printing out the relevant information for us\n",
    "print(\"Tweet Id: \",tweets_df.iloc[4][0])\n",
    "print(\"User Id: \",tweets_df.iloc[4][1])\n",
    "print(\"Username: \",tweets_df.iloc[4][2])"
   ]
  },
  {
   "cell_type": "markdown",
   "metadata": {},
   "source": [
    "### Perfect now let's test get_status and get_user with the above Tweet Id, User Id, and Username."
   ]
  },
  {
   "cell_type": "code",
   "execution_count": 48,
   "metadata": {},
   "outputs": [],
   "source": [
    "api.get_status(1285363852851511301)"
   ]
  },
  {
   "cell_type": "markdown",
   "metadata": {},
   "source": [
    "### There's a lot going on with that. Remember the list from above that shows the attributes of tweet and user objects? We can use that to focus on the relevant parts."
   ]
  },
  {
   "cell_type": "code",
   "execution_count": 8,
   "metadata": {},
   "outputs": [
    {
     "name": "stdout",
     "output_type": "stream",
     "text": [
      "Salinas Valley, CA\n",
      "9\n",
      "WordPress.com\n"
     ]
    }
   ],
   "source": [
    "# Using the get_status method to request for the tweet data and pull out requested information\n",
    "print(api.get_status(1285363852851511301).user.location)\n",
    "print(api.get_status(1285363852851511301).user.followers_count)\n",
    "print(api.get_status(1285363852851511301).source)"
   ]
  },
  {
   "cell_type": "code",
   "execution_count": 9,
   "metadata": {},
   "outputs": [
    {
     "name": "stdout",
     "output_type": "stream",
     "text": [
      "Salinas Valley, CA\n",
      "9\n"
     ]
    },
    {
     "ename": "AttributeError",
     "evalue": "'User' object has no attribute 'source'",
     "output_type": "error",
     "traceback": [
      "\u001b[1;31m---------------------------------------------------------------------------\u001b[0m",
      "\u001b[1;31mAttributeError\u001b[0m                            Traceback (most recent call last)",
      "\u001b[1;32m<ipython-input-9-0adaf2d3816e>\u001b[0m in \u001b[0;36m<module>\u001b[1;34m\u001b[0m\n\u001b[0;32m      1\u001b[0m \u001b[0mprint\u001b[0m\u001b[1;33m(\u001b[0m\u001b[0mapi\u001b[0m\u001b[1;33m.\u001b[0m\u001b[0mget_user\u001b[0m\u001b[1;33m(\u001b[0m\u001b[1;36m811267164476841984\u001b[0m\u001b[1;33m)\u001b[0m\u001b[1;33m.\u001b[0m\u001b[0mlocation\u001b[0m\u001b[1;33m)\u001b[0m\u001b[1;33m\u001b[0m\u001b[1;33m\u001b[0m\u001b[0m\n\u001b[0;32m      2\u001b[0m \u001b[0mprint\u001b[0m\u001b[1;33m(\u001b[0m\u001b[0mapi\u001b[0m\u001b[1;33m.\u001b[0m\u001b[0mget_user\u001b[0m\u001b[1;33m(\u001b[0m\u001b[1;34m'realJakeLogan'\u001b[0m\u001b[1;33m)\u001b[0m\u001b[1;33m.\u001b[0m\u001b[0mfollowers_count\u001b[0m\u001b[1;33m)\u001b[0m\u001b[1;33m\u001b[0m\u001b[1;33m\u001b[0m\u001b[0m\n\u001b[1;32m----> 3\u001b[1;33m \u001b[0mprint\u001b[0m\u001b[1;33m(\u001b[0m\u001b[0mapi\u001b[0m\u001b[1;33m.\u001b[0m\u001b[0mget_user\u001b[0m\u001b[1;33m(\u001b[0m\u001b[1;36m811267164476841984\u001b[0m\u001b[1;33m)\u001b[0m\u001b[1;33m.\u001b[0m\u001b[0msource\u001b[0m\u001b[1;33m)\u001b[0m\u001b[1;33m\u001b[0m\u001b[1;33m\u001b[0m\u001b[0m\n\u001b[0m",
      "\u001b[1;31mAttributeError\u001b[0m: 'User' object has no attribute 'source'"
     ]
    }
   ],
   "source": [
    "print(api.get_user(811267164476841984).location)\n",
    "print(api.get_user('realJakeLogan').followers_count)\n",
    "\n",
    "# Should throw an error because user object only has user information\n",
    "print(api.get_user(811267164476841984).source)"
   ]
  },
  {
   "cell_type": "markdown",
   "metadata": {},
   "source": [
    "As you can see user information is available with either method. The only difference is api.get_status requires you to enter the user keyword as seen with user.location to look at its user information whereas api.get_user only requires .location because it is the user information. That's why we see the error above with looking at the source information with api.get_user because there is no tweet information.\n",
    "\n",
    "Lastly, as you can see api.get_user is able to use either User Id or a Twitter Username to pull up user information.\n",
    "\n",
    "These methods are great, but using it on a single item is only good for testing. The power really comes in when you can create a function allowing you to use it with a whole dataset."
   ]
  },
  {
   "cell_type": "code",
   "execution_count": 10,
   "metadata": {},
   "outputs": [],
   "source": [
    "# Creating copy of original df to mess around with\n",
    "tweet_df_test = tweets_df.copy()"
   ]
  },
  {
   "cell_type": "code",
   "execution_count": 20,
   "metadata": {},
   "outputs": [],
   "source": [
    "# Creating functions to request tweet or user information and extract them\n",
    "def extract_tweepy_tweet_info(row):\n",
    "    tweet = api.get_status(row['Tweet Id'])\n",
    "    return tweet.source\n",
    "\n",
    "def extract_tweepy_tweet_user_info(row):\n",
    "    tweet = api.get_status(row['Tweet Id'])\n",
    "    return tweet.user.statuses_count\n",
    "    \n",
    "def extract_tweepy_user_info1(row):\n",
    "    user = api.get_user(row['Tweet User Id'])\n",
    "    return user.followers_count\n",
    "\n",
    "def extract_tweepy_user_info2(row):\n",
    "    user = api.get_user(row['Tweet User'])\n",
    "    return user.verified"
   ]
  },
  {
   "cell_type": "code",
   "execution_count": 21,
   "metadata": {
    "scrolled": true
   },
   "outputs": [],
   "source": [
    "# Setting new columns to be equal to the returned data from each function\n",
    "tweet_df_test['Tweet Source'] = tweet_df_test.apply(extract_tweepy_tweet_info,axis=1)\n",
    "tweet_df_test['Tweets Count'] = tweet_df_test.apply(extract_tweepy_tweet_user_info,axis=1)\n",
    "tweet_df_test['Follower Count'] = tweet_df_test.apply(extract_tweepy_user_info1,axis=1)\n",
    "tweet_df_test['Verified Status'] = tweet_df_test.apply(extract_tweepy_user_info2,axis=1)"
   ]
  },
  {
   "cell_type": "code",
   "execution_count": 26,
   "metadata": {},
   "outputs": [
    {
     "data": {
      "text/html": [
       "<div>\n",
       "<style scoped>\n",
       "    .dataframe tbody tr th:only-of-type {\n",
       "        vertical-align: middle;\n",
       "    }\n",
       "\n",
       "    .dataframe tbody tr th {\n",
       "        vertical-align: top;\n",
       "    }\n",
       "\n",
       "    .dataframe thead th {\n",
       "        text-align: right;\n",
       "    }\n",
       "</style>\n",
       "<table border=\"1\" class=\"dataframe\">\n",
       "  <thead>\n",
       "    <tr style=\"text-align: right;\">\n",
       "      <th></th>\n",
       "      <th>Tweet Id</th>\n",
       "      <th>Tweet User Id</th>\n",
       "      <th>Tweet User</th>\n",
       "      <th>Text</th>\n",
       "      <th>Retweets</th>\n",
       "      <th>Favorites</th>\n",
       "      <th>Replies</th>\n",
       "      <th>Datetime</th>\n",
       "      <th>Tweet Source</th>\n",
       "      <th>Follower Count</th>\n",
       "      <th>Verified Status</th>\n",
       "      <th>Tweets Count</th>\n",
       "    </tr>\n",
       "  </thead>\n",
       "  <tbody>\n",
       "    <tr>\n",
       "      <th>0</th>\n",
       "      <td>1285363858832363520</td>\n",
       "      <td>1182717701203972096</td>\n",
       "      <td>workinclassbird</td>\n",
       "      <td>friend..... hello</td>\n",
       "      <td>0</td>\n",
       "      <td>3</td>\n",
       "      <td>1</td>\n",
       "      <td>2020-07-20 23:59:59+00:00</td>\n",
       "      <td>Twitter for iPhone</td>\n",
       "      <td>1877</td>\n",
       "      <td>False</td>\n",
       "      <td>561</td>\n",
       "    </tr>\n",
       "    <tr>\n",
       "      <th>1</th>\n",
       "      <td>1285363857242947584</td>\n",
       "      <td>1183184898070405120</td>\n",
       "      <td>Soap_The_Scrub</td>\n",
       "      <td>hello yes i interacted</td>\n",
       "      <td>0</td>\n",
       "      <td>4</td>\n",
       "      <td>3</td>\n",
       "      <td>2020-07-20 23:59:59+00:00</td>\n",
       "      <td>Twitter for iPhone</td>\n",
       "      <td>1265</td>\n",
       "      <td>False</td>\n",
       "      <td>11815</td>\n",
       "    </tr>\n",
       "    <tr>\n",
       "      <th>2</th>\n",
       "      <td>1285363856202698753</td>\n",
       "      <td>844768299388813314</td>\n",
       "      <td>kuroslays</td>\n",
       "      <td>Hello lew,</td>\n",
       "      <td>0</td>\n",
       "      <td>0</td>\n",
       "      <td>0</td>\n",
       "      <td>2020-07-20 23:59:58+00:00</td>\n",
       "      <td>Twitter for iPhone</td>\n",
       "      <td>1201</td>\n",
       "      <td>False</td>\n",
       "      <td>7332</td>\n",
       "    </tr>\n",
       "    <tr>\n",
       "      <th>3</th>\n",
       "      <td>1285363856055951363</td>\n",
       "      <td>1214501518646247425</td>\n",
       "      <td>bubsji</td>\n",
       "      <td>im nervous HELLO</td>\n",
       "      <td>0</td>\n",
       "      <td>0</td>\n",
       "      <td>0</td>\n",
       "      <td>2020-07-20 23:59:58+00:00</td>\n",
       "      <td>Twitter for Android</td>\n",
       "      <td>568</td>\n",
       "      <td>False</td>\n",
       "      <td>10844</td>\n",
       "    </tr>\n",
       "    <tr>\n",
       "      <th>4</th>\n",
       "      <td>1285363852851511301</td>\n",
       "      <td>811267164476841984</td>\n",
       "      <td>realJakeLogan</td>\n",
       "      <td>Butt Stallion says hello neck gaiter</td>\n",
       "      <td>0</td>\n",
       "      <td>0</td>\n",
       "      <td>0</td>\n",
       "      <td>2020-07-20 23:59:58+00:00</td>\n",
       "      <td>WordPress.com</td>\n",
       "      <td>9</td>\n",
       "      <td>False</td>\n",
       "      <td>147</td>\n",
       "    </tr>\n",
       "  </tbody>\n",
       "</table>\n",
       "</div>"
      ],
      "text/plain": [
       "              Tweet Id        Tweet User Id       Tweet User  \\\n",
       "0  1285363858832363520  1182717701203972096  workinclassbird   \n",
       "1  1285363857242947584  1183184898070405120   Soap_The_Scrub   \n",
       "2  1285363856202698753   844768299388813314        kuroslays   \n",
       "3  1285363856055951363  1214501518646247425           bubsji   \n",
       "4  1285363852851511301   811267164476841984    realJakeLogan   \n",
       "\n",
       "                                    Text  Retweets  Favorites  Replies  \\\n",
       "0                      friend..... hello         0          3        1   \n",
       "1                hello yes i interacted          0          4        3   \n",
       "2                            Hello lew,          0          0        0   \n",
       "3                       im nervous HELLO         0          0        0   \n",
       "4  Butt Stallion says hello neck gaiter          0          0        0   \n",
       "\n",
       "                   Datetime         Tweet Source  Follower Count  \\\n",
       "0 2020-07-20 23:59:59+00:00   Twitter for iPhone            1877   \n",
       "1 2020-07-20 23:59:59+00:00   Twitter for iPhone            1265   \n",
       "2 2020-07-20 23:59:58+00:00   Twitter for iPhone            1201   \n",
       "3 2020-07-20 23:59:58+00:00  Twitter for Android             568   \n",
       "4 2020-07-20 23:59:58+00:00        WordPress.com               9   \n",
       "\n",
       "   Verified Status  Tweets Count  \n",
       "0            False           561  \n",
       "1            False         11815  \n",
       "2            False          7332  \n",
       "3            False         10844  \n",
       "4            False           147  "
      ]
     },
     "execution_count": 26,
     "metadata": {},
     "output_type": "execute_result"
    }
   ],
   "source": [
    "# Output of data\n",
    "tweet_df_test.head()"
   ]
  },
  {
   "cell_type": "markdown",
   "metadata": {},
   "source": [
    "As you can see there are now four new columns added on at the end of this dataframe.\n",
    "\n",
    "It's worth noting the above code is not done efficiently in regards to time and API requests. If you find yourself using either method to access more than one piece of information for each tweet the functions above are not the best way to do so because they send one request per tweet.attribute instead of collecting several attributes for one request.\n",
    "\n",
    "If you want to access several attributes per Tweet, there's a couple ways of doing so. Either create a list, store the data in the list then add it to the dataframe. Or create a function that will create a series and return it, then use pandas to apply this method to a dataframe. I'll showcase the former as it's easier to grasp."
   ]
  },
  {
   "cell_type": "code",
   "execution_count": 24,
   "metadata": {},
   "outputs": [],
   "source": [
    "# Creating copy of original df to mess around with\n",
    "tweets_df_test_efficient = tweets_df.copy()"
   ]
  },
  {
   "cell_type": "code",
   "execution_count": 34,
   "metadata": {},
   "outputs": [],
   "source": [
    "# Creation of list to store scrape tweet data\n",
    "tweets_holding_list = []\n",
    "\n",
    "def extract_tweepy_tweet_info_efficient(row):\n",
    "    # Using Tweepy API to request for tweet data\n",
    "    tweet = api.get_status(row['Tweet Id'])\n",
    "    \n",
    "    # Storing chosen tweet data in tweets_holding_list to be used later\n",
    "    tweets_holding_list.append((tweet.source, tweet.user.statuses_count, tweet.user.followers_count, tweet.user.verified))"
   ]
  },
  {
   "cell_type": "code",
   "execution_count": null,
   "metadata": {},
   "outputs": [],
   "source": [
    "# Applying the extract_tweepy_tweet_info_efficient function to store tweet data in the tweets_holding_list\n",
    "tweets_df_test_efficient.apply(extract_tweepy_tweet_info_efficient, axis=1)\n",
    "\n",
    "# Creating new columns to store the data that's currently being held in tweets_holding_list\n",
    "tweets_df_test_efficient[['Tweet Source', 'User Tweet Count', 'Follower Count', 'User Verified Status']] = pd.DataFrame(tweets_holding_list)"
   ]
  },
  {
   "cell_type": "code",
   "execution_count": 43,
   "metadata": {},
   "outputs": [
    {
     "data": {
      "text/html": [
       "<div>\n",
       "<style scoped>\n",
       "    .dataframe tbody tr th:only-of-type {\n",
       "        vertical-align: middle;\n",
       "    }\n",
       "\n",
       "    .dataframe tbody tr th {\n",
       "        vertical-align: top;\n",
       "    }\n",
       "\n",
       "    .dataframe thead th {\n",
       "        text-align: right;\n",
       "    }\n",
       "</style>\n",
       "<table border=\"1\" class=\"dataframe\">\n",
       "  <thead>\n",
       "    <tr style=\"text-align: right;\">\n",
       "      <th></th>\n",
       "      <th>Tweet Id</th>\n",
       "      <th>Tweet User Id</th>\n",
       "      <th>Tweet User</th>\n",
       "      <th>Text</th>\n",
       "      <th>Retweets</th>\n",
       "      <th>Favorites</th>\n",
       "      <th>Replies</th>\n",
       "      <th>Datetime</th>\n",
       "      <th>Tweet Source</th>\n",
       "      <th>User Tweet Count</th>\n",
       "      <th>Follower Count</th>\n",
       "      <th>User Verified Status</th>\n",
       "    </tr>\n",
       "  </thead>\n",
       "  <tbody>\n",
       "    <tr>\n",
       "      <th>0</th>\n",
       "      <td>1285363858832363520</td>\n",
       "      <td>1182717701203972096</td>\n",
       "      <td>workinclassbird</td>\n",
       "      <td>friend..... hello</td>\n",
       "      <td>0</td>\n",
       "      <td>3</td>\n",
       "      <td>1</td>\n",
       "      <td>2020-07-20 23:59:59+00:00</td>\n",
       "      <td>Twitter for iPhone</td>\n",
       "      <td>561</td>\n",
       "      <td>1878</td>\n",
       "      <td>False</td>\n",
       "    </tr>\n",
       "    <tr>\n",
       "      <th>1</th>\n",
       "      <td>1285363857242947584</td>\n",
       "      <td>1183184898070405120</td>\n",
       "      <td>Soap_The_Scrub</td>\n",
       "      <td>hello yes i interacted</td>\n",
       "      <td>0</td>\n",
       "      <td>4</td>\n",
       "      <td>3</td>\n",
       "      <td>2020-07-20 23:59:59+00:00</td>\n",
       "      <td>Twitter for iPhone</td>\n",
       "      <td>11819</td>\n",
       "      <td>1266</td>\n",
       "      <td>False</td>\n",
       "    </tr>\n",
       "    <tr>\n",
       "      <th>2</th>\n",
       "      <td>1285363856202698753</td>\n",
       "      <td>844768299388813314</td>\n",
       "      <td>kuroslays</td>\n",
       "      <td>Hello lew,</td>\n",
       "      <td>0</td>\n",
       "      <td>0</td>\n",
       "      <td>0</td>\n",
       "      <td>2020-07-20 23:59:58+00:00</td>\n",
       "      <td>Twitter for iPhone</td>\n",
       "      <td>7333</td>\n",
       "      <td>1200</td>\n",
       "      <td>False</td>\n",
       "    </tr>\n",
       "    <tr>\n",
       "      <th>3</th>\n",
       "      <td>1285363856055951363</td>\n",
       "      <td>1214501518646247425</td>\n",
       "      <td>bubsji</td>\n",
       "      <td>im nervous HELLO</td>\n",
       "      <td>0</td>\n",
       "      <td>0</td>\n",
       "      <td>0</td>\n",
       "      <td>2020-07-20 23:59:58+00:00</td>\n",
       "      <td>Twitter for Android</td>\n",
       "      <td>10861</td>\n",
       "      <td>568</td>\n",
       "      <td>False</td>\n",
       "    </tr>\n",
       "    <tr>\n",
       "      <th>4</th>\n",
       "      <td>1285363852851511301</td>\n",
       "      <td>811267164476841984</td>\n",
       "      <td>realJakeLogan</td>\n",
       "      <td>Butt Stallion says hello neck gaiter</td>\n",
       "      <td>0</td>\n",
       "      <td>0</td>\n",
       "      <td>0</td>\n",
       "      <td>2020-07-20 23:59:58+00:00</td>\n",
       "      <td>WordPress.com</td>\n",
       "      <td>147</td>\n",
       "      <td>9</td>\n",
       "      <td>False</td>\n",
       "    </tr>\n",
       "  </tbody>\n",
       "</table>\n",
       "</div>"
      ],
      "text/plain": [
       "              Tweet Id        Tweet User Id       Tweet User  \\\n",
       "0  1285363858832363520  1182717701203972096  workinclassbird   \n",
       "1  1285363857242947584  1183184898070405120   Soap_The_Scrub   \n",
       "2  1285363856202698753   844768299388813314        kuroslays   \n",
       "3  1285363856055951363  1214501518646247425           bubsji   \n",
       "4  1285363852851511301   811267164476841984    realJakeLogan   \n",
       "\n",
       "                                    Text  Retweets  Favorites  Replies  \\\n",
       "0                      friend..... hello         0          3        1   \n",
       "1                hello yes i interacted          0          4        3   \n",
       "2                            Hello lew,          0          0        0   \n",
       "3                       im nervous HELLO         0          0        0   \n",
       "4  Butt Stallion says hello neck gaiter          0          0        0   \n",
       "\n",
       "                   Datetime         Tweet Source  User Tweet Count  \\\n",
       "0 2020-07-20 23:59:59+00:00   Twitter for iPhone               561   \n",
       "1 2020-07-20 23:59:59+00:00   Twitter for iPhone             11819   \n",
       "2 2020-07-20 23:59:58+00:00   Twitter for iPhone              7333   \n",
       "3 2020-07-20 23:59:58+00:00  Twitter for Android             10861   \n",
       "4 2020-07-20 23:59:58+00:00        WordPress.com               147   \n",
       "\n",
       "   Follower Count  User Verified Status  \n",
       "0            1878                 False  \n",
       "1            1266                 False  \n",
       "2            1200                 False  \n",
       "3             568                 False  \n",
       "4               9                 False  "
      ]
     },
     "execution_count": 43,
     "metadata": {},
     "output_type": "execute_result"
    }
   ],
   "source": [
    "# Output of data\n",
    "tweets_df_test_efficient.head()"
   ]
  },
  {
   "cell_type": "markdown",
   "metadata": {},
   "source": [
    "There you go. That's all there is to it. It's more efficient to only run the api request once and pull all the information you need than to send a request for each tweet.attribute. It'll save a lot more time in the long run."
   ]
  }
 ],
 "metadata": {
  "kernelspec": {
   "display_name": "Python 3",
   "language": "python",
   "name": "python3"
  },
  "language_info": {
   "codemirror_mode": {
    "name": "ipython",
    "version": 3
   },
   "file_extension": ".py",
   "mimetype": "text/x-python",
   "name": "python",
   "nbconvert_exporter": "python",
   "pygments_lexer": "ipython3",
   "version": "3.7.3"
  }
 },
 "nbformat": 4,
 "nbformat_minor": 2
}
